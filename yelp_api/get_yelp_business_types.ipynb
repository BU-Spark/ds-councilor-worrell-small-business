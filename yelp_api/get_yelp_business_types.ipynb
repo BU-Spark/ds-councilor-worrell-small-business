{
 "cells": [
  {
   "cell_type": "code",
   "execution_count": null,
   "metadata": {},
   "outputs": [],
   "source": [
    "import requests\n",
    "import json\n",
    "\n",
    "\"\"\"NOTE: This code can only run if provided the BDPA list of businesses data set which is named 'df4' in this file to represent the list of businesses within district 4.\"\"\"\n",
    "\n",
    "#use yelp api to get more informed business types\n",
    "api_key = \"Yp4EsOufpWs3r3O-s8ak3TbG3eQfTqiF5N1nAQGq1YHfPf3bP-QaHQ2Y3CVndj3clQf68JqcfjA9eorkn9QLSO7gtFX_OeztaJKE0fbNFpEj16CH8DkI_WMsxPFaY3Yx\"\n",
    "headers = {'Authorization': 'Bearer %s' % api_key}\n",
    "\n",
    "def return_parent_category_yelp(business_name, latitude, longitude, address, row):\n",
    "    #make a request to yelp_api business/search to get the sub category alias for a business\n",
    "    business_url = \"https://api.yelp.com/v3/businesses/search\"\n",
    "    params = {'locale' : 'en_US', 'term':business_name, 'latitude': latitude, 'longitude':longitude, 'location':address}\n",
    "    business_search_req = requests.get(business_url, params=params, headers=headers)\n",
    "    business_search_res = json.loads(business_search_req.text)\n",
    "\n",
    "    if len(business_search_res[\"businesses\"]) == 0:  #case where business is not on yelp and no results are returned\n",
    "        return (row[\"NAICS_2017_2digit_desc\"], row[\"NAICS_2017_2digit_desc\"])\n",
    "    \n",
    "    #case where the businesiness isn't on yelp but it returns a similar business or there is no associated category available\n",
    "    if business_search_res[\"businesses\"][0][\"location\"][\"address1\"] != address or len(business_search_res[\"businesses\"][0][\"categories\"]) == 0: \n",
    "        return (row[\"NAICS_2017_2digit_desc\"], row[\"NAICS_2017_2digit_desc\"])\n",
    "\n",
    "    sub_category = business_search_res[\"businesses\"][0][\"categories\"][0][\"alias\"]\n",
    "\n",
    "    #make a request to the categories endpoint to get the parent category\n",
    "    category_url = \"https://api.yelp.com/v3/categories/\" + sub_category\n",
    "    params = {'locale' : 'en_US'}\n",
    "    category_req = requests.get(category_url, params=params, headers=headers)\n",
    "    category_res = json.loads(category_req.text)\n",
    "\n",
    "\n",
    "    if len(category_res[\"category\"][\"parent_aliases\"]) == 0: #case where there is not parent category associated with the business\n",
    "        return (row[\"NAICS_2017_2digit_desc\"], row[\"NAICS_2017_2digit_desc\"])\n",
    "\n",
    "\n",
    "    parent_category = category_res[\"category\"][\"parent_aliases\"][0]\n",
    "\n",
    "    return (sub_category, parent_category)\n",
    "\n",
    "#return_parent_category_yelp(\"go forward inc\", '42.349978', '-71.164422', \"559 Washington St\", [])\n",
    "df4[\"yelp_business_type\"] = df4.apply(lambda x : return_parent_category_yelp(x[\"business_name\"], x[\"latitude\"], x[\"longitude\"], x[\"street_address\"], x)[1], axis=1)\n"
   ]
  }
 ],
 "metadata": {
  "language_info": {
   "name": "python"
  },
  "orig_nbformat": 4
 },
 "nbformat": 4,
 "nbformat_minor": 2
}
