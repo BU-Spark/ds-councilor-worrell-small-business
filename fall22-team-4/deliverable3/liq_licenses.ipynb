{
 "cells": [
  {
   "cell_type": "code",
   "execution_count": 70,
   "metadata": {},
   "outputs": [
    {
     "data": {
      "text/plain": [
       "<BarContainer object of 9 artists>"
      ]
     },
     "execution_count": 70,
     "metadata": {},
     "output_type": "execute_result"
    },
    {
     "data": {
      "image/png": "[encoded data removed]",
      "text/plain": [
       "<Figure size 640x480 with 1 Axes>"
      ]
     },
     "metadata": {},
     "output_type": "display_data"
    }
   ],
   "source": [
    "import pandas as pd\n",
    "import matplotlib.pyplot as plt\n",
    "import folium\n",
    "import geojson\n",
    "from shapely.geometry import shape, Point\n",
    "\n",
    "license_data = pd.read_csv(\"liq license data.csv\")\n",
    "coords = pd.read_excel(\"liquor_licenses_converted.xlsx\")\n",
    "license_data['long'] = coords['to Longitude']\n",
    "license_data['lat'] = coords['to Latitude']\n",
    "\n",
    "with open(\"City_Council_Districts_View.geojson\") as f:\n",
    "    gj = geojson.load(f)\n",
    "\n",
    "district4 = shape(gj['features'][6]['geometry'])\n",
    "df4 = license_data[license_data.apply(lambda x: Point(x.long,x.lat).within(district4), axis=1)] # district 4 only\n",
    "district_names = []\n",
    "total_num_licenses = []\n",
    "for i in range(len(gj['features'])):\n",
    "    district = gj['features'][i]['properties']['DISTRICT']\n",
    "    district_names.append(district)\n",
    "    boundaries = shape(gj['features'][i]['geometry'])\n",
    "    num_licenses = len(license_data[license_data.apply(lambda x: Point(x.long,x.lat).within(boundaries), axis=1)])\n",
    "    total_num_licenses.append(num_licenses)\n",
    "    \n",
    "# print(district_names, total_num_licenses)\n",
    "plt.bar(x=district_names,height=total_num_licenses)  \n"
   ]
  },
  {
   "cell_type": "markdown",
   "metadata": {},
   "source": [
    "District 4 clearly has the fewest liquor licenses with 34. The District with the next fewest liquor licenses is District 5 with 50. "
   ]
  }
 ],
 "metadata": {
  "kernelspec": {
   "display_name": "Python 3.9.0 32-bit",
   "language": "python",
   "name": "python3"
  },
  "language_info": {
   "codemirror_mode": {
    "name": "ipython",
    "version": 3
   },
   "file_extension": ".py",
   "mimetype": "text/x-python",
   "name": "python",
   "nbconvert_exporter": "python",
   "pygments_lexer": "ipython3",
   "version": "3.9.0"
  },
  "orig_nbformat": 4,
  "vscode": {
   "interpreter": {
    "hash": "2bb0cfde9b425656faf5cac57de621c3eae156b4f25e97ae57f814070b919e70"
   }
  }
 },
 "nbformat": 4,
 "nbformat_minor": 2
}
