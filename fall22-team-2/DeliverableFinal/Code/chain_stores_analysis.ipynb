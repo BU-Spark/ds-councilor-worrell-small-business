{
 "cells": [
  {
   "cell_type": "code",
   "execution_count": 1,
   "metadata": {},
   "outputs": [],
   "source": [
    "import matplotlib.pyplot as plt\n",
    "import pandas as pd\n",
    "import geopandas as gpd \n",
    "import seaborn as sns\n",
    "import numpy as np"
   ]
  },
  {
   "cell_type": "markdown",
   "metadata": {},
   "source": [
    "### chain stores\n",
    "\n",
    "- [Top 100 retailers 2022 list](https://nrf.com/resources/top-retailers/top-100-retailers/top-100-retailers-2022-list)\n",
    "- [List of restaurant chains in the US](https://en.wikipedia.org/wiki/List_of_restaurant_chains_in_the_United_States)"
   ]
  },
  {
   "cell_type": "code",
   "execution_count": 9,
   "metadata": {},
   "outputs": [],
   "source": [
    "#read in the chains csv -- this dataset is self-assembled due to no existing dataset of all chain stores\n",
    "df_chains = pd.read_csv(\"chains_datasetcsv.csv\")\n",
    "#527 chains"
   ]
  },
  {
   "cell_type": "code",
   "execution_count": 10,
   "metadata": {},
   "outputs": [
    {
     "data": {
      "text/html": [
       "<div>\n",
       "<style scoped>\n",
       "    .dataframe tbody tr th:only-of-type {\n",
       "        vertical-align: middle;\n",
       "    }\n",
       "\n",
       "    .dataframe tbody tr th {\n",
       "        vertical-align: top;\n",
       "    }\n",
       "\n",
       "    .dataframe thead th {\n",
       "        text-align: right;\n",
       "    }\n",
       "</style>\n",
       "<table border=\"1\" class=\"dataframe\">\n",
       "  <thead>\n",
       "    <tr style=\"text-align: right;\">\n",
       "      <th></th>\n",
       "      <th>chains</th>\n",
       "    </tr>\n",
       "  </thead>\n",
       "  <tbody>\n",
       "    <tr>\n",
       "      <th>0</th>\n",
       "      <td>Walmart</td>\n",
       "    </tr>\n",
       "    <tr>\n",
       "      <th>1</th>\n",
       "      <td>Amazon.com</td>\n",
       "    </tr>\n",
       "    <tr>\n",
       "      <th>2</th>\n",
       "      <td>Costco Wholesale</td>\n",
       "    </tr>\n",
       "    <tr>\n",
       "      <th>3</th>\n",
       "      <td>The Home Depot</td>\n",
       "    </tr>\n",
       "    <tr>\n",
       "      <th>4</th>\n",
       "      <td>The Kroger Co.</td>\n",
       "    </tr>\n",
       "  </tbody>\n",
       "</table>\n",
       "</div>"
      ],
      "text/plain": [
       "             chains\n",
       "0           Walmart\n",
       "1        Amazon.com\n",
       "2  Costco Wholesale\n",
       "3    The Home Depot\n",
       "4    The Kroger Co."
      ]
     },
     "execution_count": 10,
     "metadata": {},
     "output_type": "execute_result"
    }
   ],
   "source": [
    "df_chains.head()"
   ]
  },
  {
   "cell_type": "code",
   "execution_count": 11,
   "metadata": {},
   "outputs": [],
   "source": [
    "#convert Series of chain_names to an numpy array\n",
    "chain_names = df_chains['chains'].str.lower().to_numpy()"
   ]
  },
  {
   "cell_type": "code",
   "execution_count": 23,
   "metadata": {},
   "outputs": [
    {
     "name": "stdout",
     "output_type": "stream",
     "text": [
      "Number of Chains/Number of Businesses in District1 : 6 / 309\n",
      "Number of Chains/Number of Businesses in District2 : 2 / 784\n",
      "Number of Chains/Number of Businesses in District3 : 7 / 546\n",
      "Number of Chains/Number of Businesses in District4 : 6 / 411\n",
      "Number of Chains/Number of Businesses in District5 : 8 / 568\n",
      "Number of Chains/Number of Businesses in District6 : 8 / 909\n",
      "Number of Chains/Number of Businesses in District7 : 1 / 461\n",
      "Number of Chains/Number of Businesses in District8 : 3 / 255\n",
      "Number of Chains/Number of Businesses in District9 : 17 / 695\n"
     ]
    }
   ],
   "source": [
    "#full file path \"ds-councilor-worrell-small-business/data/district2_businesses.csv\"\n",
    "\n",
    "file_path_1= \"ds-councilor-worrell-small-business/data/district\"\n",
    "file_path_2 = \"_businesses.csv\"\n",
    "\n",
    "x = []\n",
    "y1 = []\n",
    "y2 = []\n",
    "#loops through all 9 districts \n",
    "for i in range(1, 10): # i = 1 though 9\n",
    "    file_path = file_path_1 + str(i) + file_path_2\n",
    "    df =pd.read_csv(file_path)\n",
    "    # checks if ['business name'] has value from list of chain_names\n",
    "    isInChains = df[df['business_name'].isin(chain_names)]\n",
    "    #gets number of businesses in each district and the number of chain stores\n",
    "    numBusinesses = df.shape[0]\n",
    "    numChains = isInChains.shape[0]\n",
    "    numIndependentBusinesses = numBusinesses - numChains\n",
    "    x.append(i)\n",
    "    y1.append(numChains)\n",
    "    y2.append(numIndependentBusinesses)\n",
    "    print(\"Number of Chains/Number of Businesses in District\" + str(i) + \" : \" + str(numChains) + \" / \" + str(numBusinesses) )"
   ]
  },
  {
   "cell_type": "code",
   "execution_count": 39,
   "metadata": {},
   "outputs": [
    {
     "data": {
      "image/png": "[encoded data removed]",
      "text/plain": [
       "<Figure size 640x480 with 1 Axes>"
      ]
     },
     "metadata": {},
     "output_type": "display_data"
    }
   ],
   "source": [
    "# plot bars in stack manner\n",
    "plt.bar(x, y2, color='gray')\n",
    "plt.bar(x, y1, bottom=y2, color='r')\n",
    "\n",
    "plt.legend(['Chain Businesses', 'Independent'])\n",
    "plt.title(\"Independent vs Chains\")\n",
    "plt.xlabel(\"Districts\")\n",
    "plt.ylabel(\"Number of Businesses\")\n",
    "plt.xticks(x)\n",
    "\n",
    "\n",
    "plt.savefig(\"ChainsvsIndependentlyOwnedBusinesses\")\n",
    "plt.show()\n"
   ]
  }
 ],
 "metadata": {
  "interpreter": {
   "hash": "7b4b4feff2f24a0f0a34464dbe537a36fda679851528fb8735cb41fa49dffb2d"
  },
  "kernelspec": {
   "display_name": "Python 3.9.13 ('base')",
   "language": "python",
   "name": "python3"
  },
  "language_info": {
   "codemirror_mode": {
    "name": "ipython",
    "version": 3
   },
   "file_extension": ".py",
   "mimetype": "text/x-python",
   "name": "python",
   "nbconvert_exporter": "python",
   "pygments_lexer": "ipython3",
   "version": "3.9.13"
  },
  "orig_nbformat": 4
 },
 "nbformat": 4,
 "nbformat_minor": 2
}
