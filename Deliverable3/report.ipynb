{
 "cells": [
  {
   "cell_type": "markdown",
   "metadata": {},
   "source": [
    "# **Deliverable 3: v1 Draft Complete Report**\n",
    "**Deadline: 21 November 2022**\n",
    "\n",
    "\n"
   ]
  },
  {
   "cell_type": "markdown",
   "metadata": {},
   "source": [
    "## **Preliminary Information**"
   ]
  },
  {
   "cell_type": "markdown",
   "metadata": {},
   "source": [
    "### **Deliverable 3 Checklist**\n",
    "\n",
    "All data should have been collected. All project questions should have been reviewed, answered, and submitted in a written document outlining findings. You will also be asked to submit the associated data and a README explaining what each label/feature in your dataset represents. Your team should meet with the client before this deliverable."
   ]
  },
  {
   "cell_type": "markdown",
   "metadata": {},
   "source": [
    "#### **Checklist**\n",
    "* All data is collected\n",
    "* Refine the preliminary analysis of the data performed in PD1&2\n",
    "* Answer another key question\n",
    "* Attempt to answer overarching project question\n",
    "* Create a draft of your final report\n",
    "* Refine project scope and list of limitations with data and potential risks of achieving project goal\n",
    "* Submit to Gradescope with the above report and modifications to original proposal\n"
   ]
  },
  {
   "cell_type": "markdown",
   "metadata": {},
   "source": [
    "#### **Questions to ask**\n",
    "\n",
    "* What businesses exist? E.g. restaurants, barbershop\n",
    "* What businesses are over-represented (e.g. within one mile of Codman square there are 30 barber shops)\n",
    "* What businesses are missing?\n",
    "* How are businesses doing? Based on cell phone traffic\n",
    "* How many licenses does a district have compared to other districts?\n",
    "* How many woman owned or MBE businesses (could be an extension)? How many of the businesses are chains vs. independent operators? \n",
    "* How long have businesses been in operation (Sec of State database? Yelp/Googleplaces? Other source of data?) \n",
    "* How many commercial vacancies – need to figure out where we might get this data ! MLS, LupeNet? (private sector data sources – ask BU Libraries; Councilor Worrell to reach out to Greater Boston Real Estate Board)"
   ]
  },
  {
   "cell_type": "markdown",
   "metadata": {},
   "source": [
    "#### **Extension Project**\n",
    "\n",
    "This is an opportunity to get creative with additional data that you think would tell an interesting story. This extension should be something your team finds compelling. You will create a mid-semester proposal for this extension project that the client will approve. \n",
    "\n",
    "These may be helpful datasets or topics to consider, but you are welcome to research other datasets and sources:\n",
    "\n",
    "**TOPIC:** Business conditions (status/health):\n",
    "* What is the status of business in the district? Are they doing well, poor, moderate, etc. \n",
    "  * Look at commercial vacancies in the district*\n",
    "    * This should be available per this ordinance: https://www.boston.gov/sites/default/files/file/2021/09/Docket%20%230601.pdf\n",
    "      * submitted a public disclosure request\n",
    "\n",
    "**TOPIC:** Covid 19’s impact on small businesses:\n",
    "* Did any businesses close because of covid? Did any businesses become virtual because of covid? How did they adapt?\n",
    "* Cross reference from 2019 through 2022 and see what’s closed\n",
    "* Did any small businesses from D4 receive federal PPP loans: Tracking PPP: Search Every Company Approved for Federal Loans - ProPublica: https://projects.propublica.org/coronavirus/bailouts/\n",
    "* List of Boston businesses receiving support from Small Business Relief Fund: https://www.boston.gov/departments/economic-development/small-business-relief-fund#_020-recipients\n",
    "  \n",
    "**TOPIC:** compare District 4 with another district - look at licenses for restaurants, liquor, etc. and how the business mix varies\n",
    "* Food establishment license data: https://data.boston.gov/dataset/active-food-establishment-licenses\n",
    "* Liquor licenses data: https://data.boston.gov/dataset/liquor-licenses\n",
    "* Cannabis licenses data: https://data.boston.gov/dataset/cannabis-registry\n",
    "* Various other licenses data: https://data.boston.gov/dataset/licensing-board-licenses\n",
    "\n",
    "**TOPIC:** Food Delivery:\n",
    "* Scrape ubereats, postmates, or uber eats to see if they offer delivery service?\n",
    "  \n",
    "**TOPIC:** Relationship betweend vulnerability and the type of businesses \n",
    "Vulnerability Dataset: https://data.boston.gov/dataset/climate-ready-boston-social-vulnerability\n"
   ]
  },
  {
   "cell_type": "markdown",
   "metadata": {},
   "source": [
    "#### **Final Report Requirements**"
   ]
  },
  {
   "cell_type": "markdown",
   "metadata": {},
   "source": [
    "**Base Project Work:**\n",
    "* The final deliverable should be a written report that includes the following information: \n",
    "  * Visualizations and dashboards of key findings\n",
    "  * Answers to all client questions\n",
    "  * Dataset containing a list of all businesses for D4, ownership details, cell phone traffic, and other relevant data for businesses\n",
    "\n",
    "**Extension Project Work:**\n",
    "* Analysis of the datasets including visualizations of key findings\n",
    "* Answers to the questions you included on proposal document (if you were unable to answer a question, indicate that)"
   ]
  },
  {
   "cell_type": "markdown",
   "metadata": {},
   "source": [
    "## **Preliminary Analysis**"
   ]
  },
  {
   "cell_type": "markdown",
   "metadata": {},
   "source": [
    "To do (Aaron):\n",
    "1. Answer \n",
    "    * What businesses are over-represented (e.g. within one mile of Codman square there are 30 barber shops)\n",
    "      * Based on the pie chart in `questions.ipynb`, we can see that certain businesses are much more over-represented than other similar ones. For example, beauty salons are vastly more common than nail salons despite their similarities. \n",
    "2. Write report (Simon/Reshab)\n",
    "    * Do it by Sunday night "
   ]
  }
 ],
 "metadata": {
  "kernelspec": {
   "display_name": "Python 3.9.13 ('base')",
   "language": "python",
   "name": "python3"
  },
  "language_info": {
   "name": "python",
   "version": "3.9.13"
  },
  "orig_nbformat": 4,
  "vscode": {
   "interpreter": {
    "hash": "bc49f495b1f61003752826ac9ebbf912efcd77d2e387547f97b30450083ead86"
   }
  }
 },
 "nbformat": 4,
 "nbformat_minor": 2
}
