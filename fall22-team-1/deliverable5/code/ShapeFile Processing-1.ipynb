{
 "cells": [
  {
   "cell_type": "code",
   "execution_count": 60,
   "id": "b9a3c349",
   "metadata": {
    "scrolled": true
   },
   "outputs": [
    {
     "data": {
      "text/plain": "      Unnamed: 0   latitude  longitude  \\\n0              1  42.349398 -71.154065   \n1              2  42.350387 -71.165135   \n2              3  42.349219 -71.151769   \n3              4  42.349465 -71.153117   \n4              5  42.349453 -71.151543   \n...          ...        ...        ...   \n4933        4934  42.334142 -71.104168   \n4934        4935  42.332113 -71.099582   \n4935        4936  42.331603 -71.112383   \n4936        4937  42.333447 -71.105691   \n4937        4938  42.336170 -71.107132   \n\n                                       business_name      street_address  \\\n0                            zisis convenience store   375 Washington St   \n1                                            ziggy's   583 Washington St   \n2                         zen zone acupuncture & spa   319 Washington St   \n3                                yes nails & spa inc       416 Market St   \n4                                            xfinity          12 Wirt St   \n...                                              ...                 ...   \n4933                                        7-eleven  722 Huntington Ave   \n4934                         123 terrace street, llc     1514 Tremont St   \n4935                                  10 jamaica way       10 Jamaicaway   \n4936                                          t baar  754 Huntington Ave   \n4937  brigham & women's physicians organization, inc       75 Francis St   \n\n      ZIP_code  NAICS_2017_6digit_code  \\\n0         2135                  452319   \n1         2135                       0   \n2         2135                  621399   \n3         2135                  812113   \n4         2135                  515210   \n...        ...                     ...   \n4933      2115                  445120   \n4934      2120                       0   \n4935      2130                       0   \n4936      2115                  445299   \n4937      2115                       0   \n\n                                 NAICS_2017_6digit_desc  \\\n0                  All Other General Merchandise Stores   \n1                                                         \n2     Offices of All Other Miscellaneous Health Prac...   \n3                                           Nail Salons   \n4              Cable and Other Subscription Programming   \n...                                                 ...   \n4933                                 Convenience Stores   \n4934                                                      \n4935                                                      \n4936                    All Other Specialty Food Stores   \n4937                                                      \n\n      NAICS_2017_2digit_code            NAICS_2017_2digit_desc  \\\n0                         45                      Retail Trade   \n1                         99                         Undefined   \n2                         62  Healthcare and Social Assistance   \n3                         81                    Other Services   \n4                         51                       Information   \n...                      ...                               ...   \n4933                      44                      Retail Trade   \n4934                      99                         Undefined   \n4935                      99                         Undefined   \n4936                      44                      Retail Trade   \n4937                      99                         Undefined   \n\n     estimated_employment employment_buckets    mainstreet  \n0                       1             1 to 9      Brighton  \n1                       0      Not Available      Brighton  \n2                       2             1 to 9      Brighton  \n3                       3             1 to 9      Brighton  \n4                      13           10 to 24      Brighton  \n...                   ...                ...           ...  \n4933                    9             1 to 9  Mission Hill  \n4934                    0      Not Available  Mission Hill  \n4935                    0      Not Available  Mission Hill  \n4936                    0      Not Available  Mission Hill  \n4937                    4             1 to 9  Mission Hill  \n\n[4938 rows x 13 columns]",
      "text/html": "<div>\n<style scoped>\n    .dataframe tbody tr th:only-of-type {\n        vertical-align: middle;\n    }\n\n    .dataframe tbody tr th {\n        vertical-align: top;\n    }\n\n    .dataframe thead th {\n        text-align: right;\n    }\n</style>\n<table border=\"1\" class=\"dataframe\">\n  <thead>\n    <tr style=\"text-align: right;\">\n      <th></th>\n      <th>Unnamed: 0</th>\n      <th>latitude</th>\n      <th>longitude</th>\n      <th>business_name</th>\n      <th>street_address</th>\n      <th>ZIP_code</th>\n      <th>NAICS_2017_6digit_code</th>\n      <th>NAICS_2017_6digit_desc</th>\n      <th>NAICS_2017_2digit_code</th>\n      <th>NAICS_2017_2digit_desc</th>\n      <th>estimated_employment</th>\n      <th>employment_buckets</th>\n      <th>mainstreet</th>\n    </tr>\n  </thead>\n  <tbody>\n    <tr>\n      <th>0</th>\n      <td>1</td>\n      <td>42.349398</td>\n      <td>-71.154065</td>\n      <td>zisis convenience store</td>\n      <td>375 Washington St</td>\n      <td>2135</td>\n      <td>452319</td>\n      <td>All Other General Merchandise Stores</td>\n      <td>45</td>\n      <td>Retail Trade</td>\n      <td>1</td>\n      <td>1 to 9</td>\n      <td>Brighton</td>\n    </tr>\n    <tr>\n      <th>1</th>\n      <td>2</td>\n      <td>42.350387</td>\n      <td>-71.165135</td>\n      <td>ziggy's</td>\n      <td>583 Washington St</td>\n      <td>2135</td>\n      <td>0</td>\n      <td></td>\n      <td>99</td>\n      <td>Undefined</td>\n      <td>0</td>\n      <td>Not Available</td>\n      <td>Brighton</td>\n    </tr>\n    <tr>\n      <th>2</th>\n      <td>3</td>\n      <td>42.349219</td>\n      <td>-71.151769</td>\n      <td>zen zone acupuncture &amp; spa</td>\n      <td>319 Washington St</td>\n      <td>2135</td>\n      <td>621399</td>\n      <td>Offices of All Other Miscellaneous Health Prac...</td>\n      <td>62</td>\n      <td>Healthcare and Social Assistance</td>\n      <td>2</td>\n      <td>1 to 9</td>\n      <td>Brighton</td>\n    </tr>\n    <tr>\n      <th>3</th>\n      <td>4</td>\n      <td>42.349465</td>\n      <td>-71.153117</td>\n      <td>yes nails &amp; spa inc</td>\n      <td>416 Market St</td>\n      <td>2135</td>\n      <td>812113</td>\n      <td>Nail Salons</td>\n      <td>81</td>\n      <td>Other Services</td>\n      <td>3</td>\n      <td>1 to 9</td>\n      <td>Brighton</td>\n    </tr>\n    <tr>\n      <th>4</th>\n      <td>5</td>\n      <td>42.349453</td>\n      <td>-71.151543</td>\n      <td>xfinity</td>\n      <td>12 Wirt St</td>\n      <td>2135</td>\n      <td>515210</td>\n      <td>Cable and Other Subscription Programming</td>\n      <td>51</td>\n      <td>Information</td>\n      <td>13</td>\n      <td>10 to 24</td>\n      <td>Brighton</td>\n    </tr>\n    <tr>\n      <th>...</th>\n      <td>...</td>\n      <td>...</td>\n      <td>...</td>\n      <td>...</td>\n      <td>...</td>\n      <td>...</td>\n      <td>...</td>\n      <td>...</td>\n      <td>...</td>\n      <td>...</td>\n      <td>...</td>\n      <td>...</td>\n      <td>...</td>\n    </tr>\n    <tr>\n      <th>4933</th>\n      <td>4934</td>\n      <td>42.334142</td>\n      <td>-71.104168</td>\n      <td>7-eleven</td>\n      <td>722 Huntington Ave</td>\n      <td>2115</td>\n      <td>445120</td>\n      <td>Convenience Stores</td>\n      <td>44</td>\n      <td>Retail Trade</td>\n      <td>9</td>\n      <td>1 to 9</td>\n      <td>Mission Hill</td>\n    </tr>\n    <tr>\n      <th>4934</th>\n      <td>4935</td>\n      <td>42.332113</td>\n      <td>-71.099582</td>\n      <td>123 terrace street, llc</td>\n      <td>1514 Tremont St</td>\n      <td>2120</td>\n      <td>0</td>\n      <td></td>\n      <td>99</td>\n      <td>Undefined</td>\n      <td>0</td>\n      <td>Not Available</td>\n      <td>Mission Hill</td>\n    </tr>\n    <tr>\n      <th>4935</th>\n      <td>4936</td>\n      <td>42.331603</td>\n      <td>-71.112383</td>\n      <td>10 jamaica way</td>\n      <td>10 Jamaicaway</td>\n      <td>2130</td>\n      <td>0</td>\n      <td></td>\n      <td>99</td>\n      <td>Undefined</td>\n      <td>0</td>\n      <td>Not Available</td>\n      <td>Mission Hill</td>\n    </tr>\n    <tr>\n      <th>4936</th>\n      <td>4937</td>\n      <td>42.333447</td>\n      <td>-71.105691</td>\n      <td>t baar</td>\n      <td>754 Huntington Ave</td>\n      <td>2115</td>\n      <td>445299</td>\n      <td>All Other Specialty Food Stores</td>\n      <td>44</td>\n      <td>Retail Trade</td>\n      <td>0</td>\n      <td>Not Available</td>\n      <td>Mission Hill</td>\n    </tr>\n    <tr>\n      <th>4937</th>\n      <td>4938</td>\n      <td>42.336170</td>\n      <td>-71.107132</td>\n      <td>brigham &amp; women's physicians organization, inc</td>\n      <td>75 Francis St</td>\n      <td>2115</td>\n      <td>0</td>\n      <td></td>\n      <td>99</td>\n      <td>Undefined</td>\n      <td>4</td>\n      <td>1 to 9</td>\n      <td>Mission Hill</td>\n    </tr>\n  </tbody>\n</table>\n<p>4938 rows × 13 columns</p>\n</div>"
     },
     "execution_count": 60,
     "metadata": {},
     "output_type": "execute_result"
    }
   ],
   "source": [
    "import pandas as pd\n",
    "import matplotlib.pyplot as plt\n",
    "df = pd.read_csv(\"MainStreets_Business_List.csv\")\n",
    "df"
   ]
  },
  {
   "cell_type": "code",
   "execution_count": 26,
   "id": "4ae1c784",
   "metadata": {},
   "outputs": [],
   "source": [
    "import geopandas as gpd\n",
    "import folium\n",
    "data = gpd.read_file(\"City_Council_Districts_View.geojson\")\n",
    "dis4 = data.loc[data[\"DISTRICT\"]==4]\n",
    "dis4_e=dis4.explode(index_parts=True)"
   ]
  },
  {
   "cell_type": "code",
   "execution_count": 27,
   "id": "316b96d2",
   "metadata": {},
   "outputs": [],
   "source": [
    "from shapely.geometry import Point\n",
    "\n",
    "df[\"inDis4\"]=\"\"\n",
    "within_dis4 = []\n",
    "for lon,lat in zip(df['longitude'], df['latitude']):\n",
    "    point = Point(lon, lat)\n",
    "#     within = pt.within(dis4_e[\"geometry\"].values[0])\n",
    "    dis4 = dis4_e[\"geometry\"].values[0].contains(point)\n",
    "    within_dis4.append(dis4)\n",
    "df[\"inDis4\"] = within_dis4\n",
    "business_dis4_df = df[df[\"inDis4\"]==True]"
   ]
  },
  {
   "cell_type": "code",
   "execution_count": 28,
   "id": "8e7df1f3",
   "metadata": {},
   "outputs": [
    {
     "data": {
      "text/html": [
       "<div>\n",
       "<style scoped>\n",
       "    .dataframe tbody tr th:only-of-type {\n",
       "        vertical-align: middle;\n",
       "    }\n",
       "\n",
       "    .dataframe tbody tr th {\n",
       "        vertical-align: top;\n",
       "    }\n",
       "\n",
       "    .dataframe thead th {\n",
       "        text-align: right;\n",
       "    }\n",
       "</style>\n",
       "<table border=\"1\" class=\"dataframe\">\n",
       "  <thead>\n",
       "    <tr style=\"text-align: right;\">\n",
       "      <th></th>\n",
       "      <th>Unnamed: 0</th>\n",
       "      <th>latitude</th>\n",
       "      <th>longitude</th>\n",
       "      <th>business_name</th>\n",
       "      <th>street_address</th>\n",
       "      <th>ZIP_code</th>\n",
       "      <th>NAICS_2017_6digit_code</th>\n",
       "      <th>NAICS_2017_6digit_desc</th>\n",
       "      <th>NAICS_2017_2digit_code</th>\n",
       "      <th>NAICS_2017_2digit_desc</th>\n",
       "      <th>estimated_employment</th>\n",
       "      <th>employment_buckets</th>\n",
       "      <th>mainstreet</th>\n",
       "      <th>inDis4</th>\n",
       "    </tr>\n",
       "  </thead>\n",
       "  <tbody>\n",
       "    <tr>\n",
       "      <th>2667</th>\n",
       "      <td>2668</td>\n",
       "      <td>42.311327</td>\n",
       "      <td>-71.080831</td>\n",
       "      <td>wingz + tingz</td>\n",
       "      <td>388 Blue Hill Ave</td>\n",
       "      <td>2121</td>\n",
       "      <td>722511</td>\n",
       "      <td>Full-Service Restaurants</td>\n",
       "      <td>72</td>\n",
       "      <td>Accommodation and Food Services</td>\n",
       "      <td>5</td>\n",
       "      <td>1 to 9</td>\n",
       "      <td>Greater Grove Hall</td>\n",
       "      <td>True</td>\n",
       "    </tr>\n",
       "    <tr>\n",
       "      <th>2670</th>\n",
       "      <td>2671</td>\n",
       "      <td>42.305682</td>\n",
       "      <td>-71.081282</td>\n",
       "      <td>washington columbia li</td>\n",
       "      <td>95 Washington St</td>\n",
       "      <td>2121</td>\n",
       "      <td>531210</td>\n",
       "      <td>Offices of Real Estate Agents and Brokers</td>\n",
       "      <td>53</td>\n",
       "      <td>Real Estate Rental and Leasing</td>\n",
       "      <td>3</td>\n",
       "      <td>1 to 9</td>\n",
       "      <td>Greater Grove Hall</td>\n",
       "      <td>True</td>\n",
       "    </tr>\n",
       "    <tr>\n",
       "      <th>2671</th>\n",
       "      <td>2672</td>\n",
       "      <td>42.305682</td>\n",
       "      <td>-71.081282</td>\n",
       "      <td>washington columbia ii apartments</td>\n",
       "      <td>95 Washington St</td>\n",
       "      <td>2121</td>\n",
       "      <td>0</td>\n",
       "      <td></td>\n",
       "      <td>99</td>\n",
       "      <td>Undefined</td>\n",
       "      <td>5</td>\n",
       "      <td>1 to 9</td>\n",
       "      <td>Greater Grove Hall</td>\n",
       "      <td>True</td>\n",
       "    </tr>\n",
       "    <tr>\n",
       "      <th>2672</th>\n",
       "      <td>2673</td>\n",
       "      <td>42.305404</td>\n",
       "      <td>-71.081098</td>\n",
       "      <td>washington columbia ii</td>\n",
       "      <td>102 Columbia Rd</td>\n",
       "      <td>2121</td>\n",
       "      <td>0</td>\n",
       "      <td></td>\n",
       "      <td>99</td>\n",
       "      <td>Undefined</td>\n",
       "      <td>0</td>\n",
       "      <td>Not Available</td>\n",
       "      <td>Greater Grove Hall</td>\n",
       "      <td>True</td>\n",
       "    </tr>\n",
       "    <tr>\n",
       "      <th>2674</th>\n",
       "      <td>2675</td>\n",
       "      <td>42.307953</td>\n",
       "      <td>-71.083183</td>\n",
       "      <td>vip wireless</td>\n",
       "      <td>482 Blue Hill Ave</td>\n",
       "      <td>2121</td>\n",
       "      <td>517312</td>\n",
       "      <td>Wireless Telecommunications Carriers (except S...</td>\n",
       "      <td>51</td>\n",
       "      <td>Information</td>\n",
       "      <td>2</td>\n",
       "      <td>1 to 9</td>\n",
       "      <td>Greater Grove Hall</td>\n",
       "      <td>True</td>\n",
       "    </tr>\n",
       "    <tr>\n",
       "      <th>...</th>\n",
       "      <td>...</td>\n",
       "      <td>...</td>\n",
       "      <td>...</td>\n",
       "      <td>...</td>\n",
       "      <td>...</td>\n",
       "      <td>...</td>\n",
       "      <td>...</td>\n",
       "      <td>...</td>\n",
       "      <td>...</td>\n",
       "      <td>...</td>\n",
       "      <td>...</td>\n",
       "      <td>...</td>\n",
       "      <td>...</td>\n",
       "      <td>...</td>\n",
       "    </tr>\n",
       "    <tr>\n",
       "      <th>3686</th>\n",
       "      <td>3687</td>\n",
       "      <td>42.285999</td>\n",
       "      <td>-71.064815</td>\n",
       "      <td>ashmont grill</td>\n",
       "      <td>555 Talbot Ave</td>\n",
       "      <td>2124</td>\n",
       "      <td>722310</td>\n",
       "      <td>Food Service Contractors</td>\n",
       "      <td>72</td>\n",
       "      <td>Accommodation and Food Services</td>\n",
       "      <td>50</td>\n",
       "      <td>50 to 99</td>\n",
       "      <td>Greater Ashmont</td>\n",
       "      <td>True</td>\n",
       "    </tr>\n",
       "    <tr>\n",
       "      <th>3687</th>\n",
       "      <td>3688</td>\n",
       "      <td>42.283340</td>\n",
       "      <td>-71.065117</td>\n",
       "      <td>ashmont cycles inc</td>\n",
       "      <td>1977 Dorchester Ave</td>\n",
       "      <td>2124</td>\n",
       "      <td>451110</td>\n",
       "      <td>Sporting Goods Stores</td>\n",
       "      <td>45</td>\n",
       "      <td>Retail Trade</td>\n",
       "      <td>3</td>\n",
       "      <td>1 to 9</td>\n",
       "      <td>Greater Ashmont</td>\n",
       "      <td>True</td>\n",
       "    </tr>\n",
       "    <tr>\n",
       "      <th>3691</th>\n",
       "      <td>3692</td>\n",
       "      <td>42.285410</td>\n",
       "      <td>-71.064600</td>\n",
       "      <td>aftab uddin biswas corp</td>\n",
       "      <td>1911 Dorchester Ave</td>\n",
       "      <td>2124</td>\n",
       "      <td>813319</td>\n",
       "      <td>Other Social Advocacy Organizations</td>\n",
       "      <td>81</td>\n",
       "      <td>Other Services</td>\n",
       "      <td>9</td>\n",
       "      <td>1 to 9</td>\n",
       "      <td>Greater Ashmont</td>\n",
       "      <td>True</td>\n",
       "    </tr>\n",
       "    <tr>\n",
       "      <th>3694</th>\n",
       "      <td>3695</td>\n",
       "      <td>42.284405</td>\n",
       "      <td>-71.065338</td>\n",
       "      <td>1943 dot ave llc</td>\n",
       "      <td>1943 Dorchester Ave</td>\n",
       "      <td>2124</td>\n",
       "      <td>0</td>\n",
       "      <td></td>\n",
       "      <td>99</td>\n",
       "      <td>Undefined</td>\n",
       "      <td>0</td>\n",
       "      <td>Not Available</td>\n",
       "      <td>Greater Ashmont</td>\n",
       "      <td>True</td>\n",
       "    </tr>\n",
       "    <tr>\n",
       "      <th>3697</th>\n",
       "      <td>3698</td>\n",
       "      <td>42.283257</td>\n",
       "      <td>-71.065224</td>\n",
       "      <td>american provisions</td>\n",
       "      <td>1971 Dorchester Ave</td>\n",
       "      <td>2124</td>\n",
       "      <td>445299</td>\n",
       "      <td>All Other Specialty Food Stores</td>\n",
       "      <td>44</td>\n",
       "      <td>Retail Trade</td>\n",
       "      <td>5</td>\n",
       "      <td>1 to 9</td>\n",
       "      <td>Greater Ashmont</td>\n",
       "      <td>True</td>\n",
       "    </tr>\n",
       "  </tbody>\n",
       "</table>\n",
       "<p>411 rows × 14 columns</p>\n",
       "</div>"
      ],
      "text/plain": [
       "      Unnamed: 0   latitude  longitude                      business_name  \\\n",
       "2667        2668  42.311327 -71.080831                      wingz + tingz   \n",
       "2670        2671  42.305682 -71.081282             washington columbia li   \n",
       "2671        2672  42.305682 -71.081282  washington columbia ii apartments   \n",
       "2672        2673  42.305404 -71.081098             washington columbia ii   \n",
       "2674        2675  42.307953 -71.083183                       vip wireless   \n",
       "...          ...        ...        ...                                ...   \n",
       "3686        3687  42.285999 -71.064815                      ashmont grill   \n",
       "3687        3688  42.283340 -71.065117                 ashmont cycles inc   \n",
       "3691        3692  42.285410 -71.064600            aftab uddin biswas corp   \n",
       "3694        3695  42.284405 -71.065338                   1943 dot ave llc   \n",
       "3697        3698  42.283257 -71.065224                american provisions   \n",
       "\n",
       "           street_address  ZIP_code  NAICS_2017_6digit_code  \\\n",
       "2667    388 Blue Hill Ave      2121                  722511   \n",
       "2670     95 Washington St      2121                  531210   \n",
       "2671     95 Washington St      2121                       0   \n",
       "2672      102 Columbia Rd      2121                       0   \n",
       "2674    482 Blue Hill Ave      2121                  517312   \n",
       "...                   ...       ...                     ...   \n",
       "3686       555 Talbot Ave      2124                  722310   \n",
       "3687  1977 Dorchester Ave      2124                  451110   \n",
       "3691  1911 Dorchester Ave      2124                  813319   \n",
       "3694  1943 Dorchester Ave      2124                       0   \n",
       "3697  1971 Dorchester Ave      2124                  445299   \n",
       "\n",
       "                                 NAICS_2017_6digit_desc  \\\n",
       "2667                           Full-Service Restaurants   \n",
       "2670          Offices of Real Estate Agents and Brokers   \n",
       "2671                                                      \n",
       "2672                                                      \n",
       "2674  Wireless Telecommunications Carriers (except S...   \n",
       "...                                                 ...   \n",
       "3686                           Food Service Contractors   \n",
       "3687                              Sporting Goods Stores   \n",
       "3691                Other Social Advocacy Organizations   \n",
       "3694                                                      \n",
       "3697                    All Other Specialty Food Stores   \n",
       "\n",
       "      NAICS_2017_2digit_code           NAICS_2017_2digit_desc  \\\n",
       "2667                      72  Accommodation and Food Services   \n",
       "2670                      53   Real Estate Rental and Leasing   \n",
       "2671                      99                        Undefined   \n",
       "2672                      99                        Undefined   \n",
       "2674                      51                      Information   \n",
       "...                      ...                              ...   \n",
       "3686                      72  Accommodation and Food Services   \n",
       "3687                      45                     Retail Trade   \n",
       "3691                      81                   Other Services   \n",
       "3694                      99                        Undefined   \n",
       "3697                      44                     Retail Trade   \n",
       "\n",
       "     estimated_employment employment_buckets          mainstreet  inDis4  \n",
       "2667                    5             1 to 9  Greater Grove Hall    True  \n",
       "2670                    3             1 to 9  Greater Grove Hall    True  \n",
       "2671                    5             1 to 9  Greater Grove Hall    True  \n",
       "2672                    0      Not Available  Greater Grove Hall    True  \n",
       "2674                    2             1 to 9  Greater Grove Hall    True  \n",
       "...                   ...                ...                 ...     ...  \n",
       "3686                   50           50 to 99     Greater Ashmont    True  \n",
       "3687                    3             1 to 9     Greater Ashmont    True  \n",
       "3691                    9             1 to 9     Greater Ashmont    True  \n",
       "3694                    0      Not Available     Greater Ashmont    True  \n",
       "3697                    5             1 to 9     Greater Ashmont    True  \n",
       "\n",
       "[411 rows x 14 columns]"
      ]
     },
     "execution_count": 28,
     "metadata": {},
     "output_type": "execute_result"
    }
   ],
   "source": [
    "business_dis4_df"
   ]
  },
  {
   "cell_type": "code",
   "execution_count": 29,
   "id": "bbb23531",
   "metadata": {},
   "outputs": [],
   "source": [
    "business_dis4_df.to_csv(\"business_list_dis4.csv\", index=False)"
   ]
  },
  {
   "cell_type": "code",
   "execution_count": 47,
   "id": "d886bac7",
   "metadata": {},
   "outputs": [],
   "source": [
    "import geopandas as gpd\n",
    "import pandas as pd\n",
    "import matplotlib.pyplot as plt\n",
    "from shapely.geometry import Point\n",
    "# district 1\n",
    "\n",
    "\n",
    "data = gpd.read_file(\"City_Council_Districts_View.geojson\")\n",
    "dis1 = data.loc[data[\"DISTRICT\"]==1]\n",
    "dis1_e=dis1.explode(index_parts=True)\n",
    "df[\"inDis1\"]=\"\"\n",
    "within_dis1 = []\n",
    "for lon,lat in zip(df['longitude'], df['latitude']):\n",
    "    point = Point(lon, lat)\n",
    "#     within = pt.within(dis4_e[\"geometry\"].values[0])\n",
    "    dis1 = dis1_e[\"geometry\"].values[0].contains(point)\n",
    "    within_dis1.append(dis1)\n",
    "df[\"district\"] = 1\n",
    "df[\"inDis1\"] = within_dis1\n",
    "business_dis1_df = df[df[\"inDis1\"]==True]\n",
    "business_dis1_df.to_csv(\"business_list_dis1.csv\", index=False)"
   ]
  },
  {
   "cell_type": "code",
   "execution_count": 48,
   "outputs": [
    {
     "name": "stdout",
     "output_type": "stream",
     "text": [
      "(309, 24)\n"
     ]
    },
    {
     "data": {
      "text/plain": "Index(['Unnamed: 0', 'latitude', 'longitude', 'business_name',\n       'street_address', 'ZIP_code', 'NAICS_2017_6digit_code',\n       'NAICS_2017_6digit_desc', 'NAICS_2017_2digit_code',\n       'NAICS_2017_2digit_desc', 'estimated_employment', 'employment_buckets',\n       'mainstreet', 'inDis1', 'inDis2', 'inDis3', 'inDis4', 'district',\n       'inDis5', 'inDis6', 'inDis7', 'inDis8', 'inDis9', 'inDis10'],\n      dtype='object')"
     },
     "execution_count": 48,
     "metadata": {},
     "output_type": "execute_result"
    }
   ],
   "source": [
    "print(business_dis1_df.shape)\n",
    "business_dis1_df.columns"
   ],
   "metadata": {
    "collapsed": false
   }
  },
  {
   "cell_type": "code",
   "execution_count": 49,
   "outputs": [],
   "source": [
    "# district 2\n",
    "dis2 = data.loc[data[\"DISTRICT\"]==2]\n",
    "dis2_e=dis2.explode(index_parts=True)\n",
    "df[\"inDis2\"]=\"\"\n",
    "within_dis2 = []\n",
    "for lon,lat in zip(df['longitude'], df['latitude']):\n",
    "    point = Point(lon, lat)\n",
    "    dis2 = dis2_e[\"geometry\"].values[0].contains(point)\n",
    "    within_dis2.append(dis2)\n",
    "df[\"inDis2\"] = within_dis2\n",
    "df[\"district\"] = 2\n",
    "business_dis2_df = df[df[\"inDis2\"]==True]\n",
    "business_dis2_df.to_csv(\"business_list_dis2.csv\", index=False)"
   ],
   "metadata": {
    "collapsed": false
   }
  },
  {
   "cell_type": "code",
   "execution_count": 50,
   "outputs": [
    {
     "name": "stdout",
     "output_type": "stream",
     "text": [
      "(784, 24)\n"
     ]
    },
    {
     "data": {
      "text/plain": "Index(['Unnamed: 0', 'latitude', 'longitude', 'business_name',\n       'street_address', 'ZIP_code', 'NAICS_2017_6digit_code',\n       'NAICS_2017_6digit_desc', 'NAICS_2017_2digit_code',\n       'NAICS_2017_2digit_desc', 'estimated_employment', 'employment_buckets',\n       'mainstreet', 'inDis1', 'inDis2', 'inDis3', 'inDis4', 'district',\n       'inDis5', 'inDis6', 'inDis7', 'inDis8', 'inDis9', 'inDis10'],\n      dtype='object')"
     },
     "execution_count": 50,
     "metadata": {},
     "output_type": "execute_result"
    }
   ],
   "source": [
    "print(business_dis2_df.shape)\n",
    "business_dis2_df.columns"
   ],
   "metadata": {
    "collapsed": false
   }
  },
  {
   "cell_type": "code",
   "execution_count": 61,
   "outputs": [
    {
     "name": "stdout",
     "output_type": "stream",
     "text": [
      "(0, 15)\n"
     ]
    }
   ],
   "source": [
    "# district 3\n",
    "dis3 = data.loc[data[\"DISTRICT\"]==3]\n",
    "dis3_e=dis3.explode(index_parts=True)\n",
    "df[\"inDis3\"]=\"\"\n",
    "within_dis3 = []\n",
    "for lon,lat in zip(df['longitude'], df['latitude']):\n",
    "    point = Point(lon, lat)\n",
    "    dis3 = dis3_e[\"geometry\"].values[0].contains(point)\n",
    "    within_dis3.append(dis3)\n",
    "df[\"inDis3\"] = within_dis3\n",
    "df[\"district\"] = 3\n",
    "business_dis3_df = df[df[\"inDis3\"]==True]\n",
    "business_dis3_df.to_csv(\"business_list_dis3_test.csv\", index=False)\n",
    "print(business_dis3_df.shape)"
   ],
   "metadata": {
    "collapsed": false
   }
  },
  {
   "cell_type": "code",
   "execution_count": 62,
   "outputs": [
    {
     "data": {
      "text/plain": "(411, 16)"
     },
     "execution_count": 62,
     "metadata": {},
     "output_type": "execute_result"
    }
   ],
   "source": [
    "# district 4\n",
    "dis4 = data.loc[data[\"DISTRICT\"]==4]\n",
    "dis4_e=dis4.explode(index_parts=True)\n",
    "df[\"inDis4\"]=\"\"\n",
    "within_dis4 = []\n",
    "for lon,lat in zip(df['longitude'], df['latitude']):\n",
    "    point = Point(lon, lat)\n",
    "    dis4 = dis4_e[\"geometry\"].values[0].contains(point)\n",
    "    within_dis4.append(dis4)\n",
    "df[\"inDis4\"] = within_dis4\n",
    "df[\"district\"] = 4\n",
    "business_dis4_df = df[df[\"inDis4\"]==True]\n",
    "business_dis4_df.to_csv(\"business_list_dis4.csv\", index=False)\n",
    "business_dis4_df.shape\n"
   ],
   "metadata": {
    "collapsed": false
   }
  },
  {
   "cell_type": "code",
   "execution_count": 54,
   "outputs": [
    {
     "data": {
      "text/plain": "(568, 24)"
     },
     "execution_count": 54,
     "metadata": {},
     "output_type": "execute_result"
    }
   ],
   "source": [
    "# district 5\n",
    "dis5 = data.loc[data[\"DISTRICT\"]==5]\n",
    "dis5_e=dis5.explode(index_parts=True)\n",
    "df[\"inDis5\"]=\"\"\n",
    "within_dis5 = []\n",
    "for lon,lat in zip(df['longitude'], df['latitude']):\n",
    "    point = Point(lon, lat)\n",
    "    dis5 = dis5_e[\"geometry\"].values[0].contains(point)\n",
    "    within_dis5.append(dis5)\n",
    "df[\"inDis5\"] = within_dis5\n",
    "df[\"district\"] = 5\n",
    "business_dis5_df = df[df[\"inDis5\"]==True]\n",
    "business_dis5_df.to_csv(\"business_list_dis5.csv\", index=False)\n",
    "business_dis5_df.shape\n"
   ],
   "metadata": {
    "collapsed": false
   }
  },
  {
   "cell_type": "code",
   "execution_count": 53,
   "outputs": [
    {
     "data": {
      "text/plain": "(909, 24)"
     },
     "execution_count": 53,
     "metadata": {},
     "output_type": "execute_result"
    }
   ],
   "source": [
    "# district 6\n",
    "dis6 = data.loc[data[\"DISTRICT\"]==6]\n",
    "dis6_e=dis6.explode(index_parts=True)\n",
    "df[\"inDis6\"]=\"\"\n",
    "within_dis6 = []\n",
    "for lon,lat in zip(df['longitude'], df['latitude']):\n",
    "    point = Point(lon, lat)\n",
    "    dis6 = dis6_e[\"geometry\"].values[0].contains(point)\n",
    "    within_dis6.append(dis6)\n",
    "df[\"inDis6\"] = within_dis6\n",
    "df[\"district\"] = 6\n",
    "business_dis6_df = df[df[\"inDis6\"]==True]\n",
    "business_dis6_df.to_csv(\"business_list_dis6.csv\", index=False)\n",
    "business_dis6_df.shape\n"
   ],
   "metadata": {
    "collapsed": false
   }
  },
  {
   "cell_type": "code",
   "execution_count": 55,
   "outputs": [
    {
     "data": {
      "text/plain": "(461, 24)"
     },
     "execution_count": 55,
     "metadata": {},
     "output_type": "execute_result"
    }
   ],
   "source": [
    "# district 7\n",
    "dis7 = data.loc[data[\"DISTRICT\"]==7]\n",
    "dis7_e=dis7.explode(index_parts=True)\n",
    "df[\"inDis7\"]=\"\"\n",
    "within_dis7 = []\n",
    "for lon,lat in zip(df['longitude'], df['latitude']):\n",
    "    point = Point(lon, lat)\n",
    "    dis7 = dis7_e[\"geometry\"].values[0].contains(point)\n",
    "    within_dis7.append(dis7)\n",
    "df[\"inDis7\"] = within_dis7\n",
    "df[\"district\"] = 7\n",
    "business_dis7_df = df[df[\"inDis7\"]==True]\n",
    "business_dis7_df.to_csv(\"business_list_dis7.csv\", index=False)\n",
    "business_dis7_df.shape\n"
   ],
   "metadata": {
    "collapsed": false
   }
  },
  {
   "cell_type": "code",
   "execution_count": 56,
   "outputs": [
    {
     "data": {
      "text/plain": "(255, 24)"
     },
     "execution_count": 56,
     "metadata": {},
     "output_type": "execute_result"
    }
   ],
   "source": [
    "# district 8\n",
    "dis8 = data.loc[data[\"DISTRICT\"]==8]\n",
    "dis8_e=dis8.explode(index_parts=True)\n",
    "df[\"inDis8\"]=\"\"\n",
    "within_dis8 = []\n",
    "for lon,lat in zip(df['longitude'], df['latitude']):\n",
    "    point = Point(lon, lat)\n",
    "    dis8 = dis8_e[\"geometry\"].values[0].contains(point)\n",
    "    within_dis8.append(dis8)\n",
    "df[\"inDis8\"] = within_dis8\n",
    "df[\"district\"] = 8\n",
    "business_dis8_df = df[df[\"inDis8\"]==True]\n",
    "business_dis8_df.to_csv(\"business_list_dis8.csv\", index=False)\n",
    "business_dis8_df.shape\n"
   ],
   "metadata": {
    "collapsed": false
   }
  },
  {
   "cell_type": "code",
   "execution_count": 57,
   "outputs": [
    {
     "data": {
      "text/plain": "(695, 24)"
     },
     "execution_count": 57,
     "metadata": {},
     "output_type": "execute_result"
    }
   ],
   "source": [
    "# district 9\n",
    "dis9 = data.loc[data[\"DISTRICT\"]==9]\n",
    "dis9_e=dis9.explode(index_parts=True)\n",
    "df[\"inDis9\"]=\"\"\n",
    "within_dis9 = []\n",
    "for lon,lat in zip(df['longitude'], df['latitude']):\n",
    "    point = Point(lon, lat)\n",
    "    dis9 = dis9_e[\"geometry\"].values[0].contains(point)\n",
    "    within_dis9.append(dis9)\n",
    "df[\"inDis9\"] = within_dis9\n",
    "df[\"district\"] = 9\n",
    "business_dis9_df = df[df[\"inDis9\"]==True]\n",
    "business_dis9_df.to_csv(\"business_list_dis9.csv\", index=False)\n",
    "business_dis9_df.shape\n"
   ],
   "metadata": {
    "collapsed": false
   }
  },
  {
   "cell_type": "code",
   "execution_count": 46,
   "outputs": [
    {
     "ename": "IndexError",
     "evalue": "index 0 is out of bounds for axis 0 with size 0",
     "output_type": "error",
     "traceback": [
      "\u001B[0;31m---------------------------------------------------------------------------\u001B[0m",
      "\u001B[0;31mIndexError\u001B[0m                                Traceback (most recent call last)",
      "Cell \u001B[0;32mIn [46], line 8\u001B[0m\n\u001B[1;32m      6\u001B[0m \u001B[38;5;28;01mfor\u001B[39;00m lon,lat \u001B[38;5;129;01min\u001B[39;00m \u001B[38;5;28mzip\u001B[39m(df[\u001B[38;5;124m'\u001B[39m\u001B[38;5;124mlongitude\u001B[39m\u001B[38;5;124m'\u001B[39m], df[\u001B[38;5;124m'\u001B[39m\u001B[38;5;124mlatitude\u001B[39m\u001B[38;5;124m'\u001B[39m]):\n\u001B[1;32m      7\u001B[0m     point \u001B[38;5;241m=\u001B[39m Point(lon, lat)\n\u001B[0;32m----> 8\u001B[0m     dis10 \u001B[38;5;241m=\u001B[39m \u001B[43mdis10_e\u001B[49m\u001B[43m[\u001B[49m\u001B[38;5;124;43m\"\u001B[39;49m\u001B[38;5;124;43mgeometry\u001B[39;49m\u001B[38;5;124;43m\"\u001B[39;49m\u001B[43m]\u001B[49m\u001B[38;5;241;43m.\u001B[39;49m\u001B[43mvalues\u001B[49m\u001B[43m[\u001B[49m\u001B[38;5;241;43m0\u001B[39;49m\u001B[43m]\u001B[49m\u001B[38;5;241m.\u001B[39mcontains(point)\n\u001B[1;32m      9\u001B[0m     within_dis10\u001B[38;5;241m.\u001B[39mappend(dis10)\n\u001B[1;32m     10\u001B[0m df[\u001B[38;5;124m\"\u001B[39m\u001B[38;5;124minDis10\u001B[39m\u001B[38;5;124m\"\u001B[39m] \u001B[38;5;241m=\u001B[39m within_dis10\n",
      "File \u001B[0;32m~/Documents/CS 506/project/venv/lib/python3.9/site-packages/geopandas/array.py:363\u001B[0m, in \u001B[0;36mGeometryArray.__getitem__\u001B[0;34m(self, idx)\u001B[0m\n\u001B[1;32m    361\u001B[0m \u001B[38;5;28;01mdef\u001B[39;00m \u001B[38;5;21m__getitem__\u001B[39m(\u001B[38;5;28mself\u001B[39m, idx):\n\u001B[1;32m    362\u001B[0m     \u001B[38;5;28;01mif\u001B[39;00m \u001B[38;5;28misinstance\u001B[39m(idx, numbers\u001B[38;5;241m.\u001B[39mIntegral):\n\u001B[0;32m--> 363\u001B[0m         \u001B[38;5;28;01mreturn\u001B[39;00m _geom_to_shapely(\u001B[38;5;28;43mself\u001B[39;49m\u001B[38;5;241;43m.\u001B[39;49m\u001B[43mdata\u001B[49m\u001B[43m[\u001B[49m\u001B[43midx\u001B[49m\u001B[43m]\u001B[49m)\n\u001B[1;32m    364\u001B[0m     \u001B[38;5;66;03m# array-like, slice\u001B[39;00m\n\u001B[1;32m    365\u001B[0m     \u001B[38;5;66;03m# validate and convert IntegerArray/BooleanArray\u001B[39;00m\n\u001B[1;32m    366\u001B[0m     \u001B[38;5;66;03m# to numpy array, pass-through non-array-like indexers\u001B[39;00m\n\u001B[1;32m    367\u001B[0m     idx \u001B[38;5;241m=\u001B[39m pd\u001B[38;5;241m.\u001B[39mapi\u001B[38;5;241m.\u001B[39mindexers\u001B[38;5;241m.\u001B[39mcheck_array_indexer(\u001B[38;5;28mself\u001B[39m, idx)\n",
      "\u001B[0;31mIndexError\u001B[0m: index 0 is out of bounds for axis 0 with size 0"
     ]
    }
   ],
   "source": [
    "# district 10\n",
    "dis10 = data.loc[data[\"DISTRICT\"]==10]\n",
    "dis10_e=dis10.explode(index_parts=True)\n",
    "df[\"inDis10\"]=\"\"\n",
    "within_dis10 = []\n",
    "for lon,lat in zip(df['longitude'], df['latitude']):\n",
    "    point = Point(lon, lat)\n",
    "    dis10 = dis10_e[\"geometry\"].values[0].contains(point)\n",
    "    within_dis10.append(dis10)\n",
    "df[\"inDis10\"] = within_dis10\n",
    "df[\"district\"] = 10\n",
    "business_dis10_df = df[df[\"inDis10\"]==True]\n",
    "business_dis10_df.to_csv(\"business_list_dis10.csv\", index=False)\n",
    "business_dis10_df.shape\n"
   ],
   "metadata": {
    "collapsed": false
   }
  },
  {
   "cell_type": "code",
   "execution_count": null,
   "outputs": [],
   "source": [
    "# district 3 for some reason wasnt working so I had to try a new method, just found the ones in the all the other districts and found the remaining, checked like 15 to see if they were in district 3 and they were so i will just conclude that these are in district 3\n",
    "\n"
   ],
   "metadata": {
    "collapsed": false
   }
  }
 ],
 "metadata": {
  "kernelspec": {
   "display_name": "Python 3 (ipykernel)",
   "language": "python",
   "name": "python3"
  },
  "language_info": {
   "codemirror_mode": {
    "name": "ipython",
    "version": 3
   },
   "file_extension": ".py",
   "mimetype": "text/x-python",
   "name": "python",
   "nbconvert_exporter": "python",
   "pygments_lexer": "ipython3",
   "version": "3.9.12"
  }
 },
 "nbformat": 4,
 "nbformat_minor": 5
}
