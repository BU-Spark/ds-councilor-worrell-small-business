{
 "cells": [
  {
   "cell_type": "code",
   "execution_count": 2,
   "metadata": {},
   "outputs": [
    {
     "name": "stdout",
     "output_type": "stream",
     "text": [
      "Requirement already satisfied: PyShp in /Users/simoncen/.pyenv/versions/3.9.7/lib/python3.9/site-packages (2.3.1)\n",
      "\u001b[33mWARNING: You are using pip version 21.2.3; however, version 22.3 is available.\n",
      "You should consider upgrading via the '/Users/simoncen/.pyenv/versions/3.9.7/bin/python3.9 -m pip install --upgrade pip' command.\u001b[0m\n"
     ]
    },
    {
     "ename": "ShapefileException",
     "evalue": "Unable to open ./datasets/city_council_districts.dbf or ./datasets/city_council_districts.shp.",
     "output_type": "error",
     "traceback": [
      "\u001b[0;31m---------------------------------------------------------------------------\u001b[0m",
      "\u001b[0;31mShapefileException\u001b[0m                        Traceback (most recent call last)",
      "Cell \u001b[0;32mIn [2], line 9\u001b[0m\n\u001b[1;32m      7\u001b[0m listx\u001b[39m=\u001b[39m[]\n\u001b[1;32m      8\u001b[0m listy\u001b[39m=\u001b[39m[]\n\u001b[0;32m----> 9\u001b[0m test \u001b[39m=\u001b[39m shapefile\u001b[39m.\u001b[39;49mReader(shpFilePath)\n\u001b[1;32m     10\u001b[0m \u001b[39mfor\u001b[39;00m sr \u001b[39min\u001b[39;00m test\u001b[39m.\u001b[39mshapeRecords():\n\u001b[1;32m     11\u001b[0m     \u001b[39mfor\u001b[39;00m xNew,yNew \u001b[39min\u001b[39;00m sr\u001b[39m.\u001b[39mshape\u001b[39m.\u001b[39mpoints:\n",
      "File \u001b[0;32m~/.pyenv/versions/3.9.7/lib/python3.9/site-packages/shapefile.py:1048\u001b[0m, in \u001b[0;36mReader.__init__\u001b[0;34m(self, *args, **kwargs)\u001b[0m\n\u001b[1;32m   1043\u001b[0m                 \u001b[39mraise\u001b[39;00m ShapefileException(\u001b[39m\"\u001b[39m\u001b[39mNo shp or dbf file found at url: \u001b[39m\u001b[39m%s\u001b[39;00m\u001b[39m\"\u001b[39m \u001b[39m%\u001b[39m path)\n\u001b[1;32m   1045\u001b[0m         \u001b[39melse\u001b[39;00m:\n\u001b[1;32m   1046\u001b[0m             \u001b[39m# Local file path to a shapefile\u001b[39;00m\n\u001b[1;32m   1047\u001b[0m             \u001b[39m# Load and exit early\u001b[39;00m\n\u001b[0;32m-> 1048\u001b[0m             \u001b[39mself\u001b[39;49m\u001b[39m.\u001b[39;49mload(path)\n\u001b[1;32m   1049\u001b[0m             \u001b[39mreturn\u001b[39;00m\n\u001b[1;32m   1051\u001b[0m \u001b[39m# Otherwise, load from separate shp/shx/dbf args (must be path or file-like)\u001b[39;00m\n",
      "File \u001b[0;32m~/.pyenv/versions/3.9.7/lib/python3.9/site-packages/shapefile.py:1193\u001b[0m, in \u001b[0;36mReader.load\u001b[0;34m(self, shapefile)\u001b[0m\n\u001b[1;32m   1191\u001b[0m     \u001b[39mself\u001b[39m\u001b[39m.\u001b[39mload_dbf(shapeName)\n\u001b[1;32m   1192\u001b[0m     \u001b[39mif\u001b[39;00m \u001b[39mnot\u001b[39;00m (\u001b[39mself\u001b[39m\u001b[39m.\u001b[39mshp \u001b[39mor\u001b[39;00m \u001b[39mself\u001b[39m\u001b[39m.\u001b[39mdbf):\n\u001b[0;32m-> 1193\u001b[0m         \u001b[39mraise\u001b[39;00m ShapefileException(\u001b[39m\"\u001b[39m\u001b[39mUnable to open \u001b[39m\u001b[39m%s\u001b[39;00m\u001b[39m.dbf or \u001b[39m\u001b[39m%s\u001b[39;00m\u001b[39m.shp.\u001b[39m\u001b[39m\"\u001b[39m \u001b[39m%\u001b[39m (shapeName, shapeName))\n\u001b[1;32m   1194\u001b[0m \u001b[39mif\u001b[39;00m \u001b[39mself\u001b[39m\u001b[39m.\u001b[39mshp:\n\u001b[1;32m   1195\u001b[0m     \u001b[39mself\u001b[39m\u001b[39m.\u001b[39m__shpHeader()\n",
      "\u001b[0;31mShapefileException\u001b[0m: Unable to open ./datasets/city_council_districts.dbf or ./datasets/city_council_districts.shp."
     ]
    }
   ],
   "source": [
    "\n",
    "import matplotlib.pyplot as plt\n",
    "import shapefile   \n",
    "\n",
    "shpFilePath = \"./datasets/city_council_districts.shp\"  \n",
    "listx=[]\n",
    "listy=[]\n",
    "test = shapefile.Reader(shpFilePath)\n",
    "for sr in test.shapeRecords():\n",
    "    for xNew,yNew in sr.shape.points:\n",
    "        listx.append(xNew)\n",
    "        listy.append(yNew)\n",
    "plt.plot(listx,listy)\n",
    "plt.show()"
   ]
  }
 ],
 "metadata": {
  "kernelspec": {
   "display_name": "Python 3.9.7 64-bit ('3.9.7')",
   "language": "python",
   "name": "python3"
  },
  "language_info": {
   "codemirror_mode": {
    "name": "ipython",
    "version": 3
   },
   "file_extension": ".py",
   "mimetype": "text/x-python",
   "name": "python",
   "nbconvert_exporter": "python",
   "pygments_lexer": "ipython3",
   "version": "3.9.7"
  },
  "orig_nbformat": 4,
  "vscode": {
   "interpreter": {
    "hash": "e4f0daaa73fad5614b48c1b982e95d3c78a839c87d5fa8e3f4fc283ac7de1480"
   }
  }
 },
 "nbformat": 4,
 "nbformat_minor": 2
}
